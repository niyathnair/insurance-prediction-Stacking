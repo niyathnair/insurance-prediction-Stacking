{
 "cells": [
  {
   "cell_type": "code",
   "execution_count": 10,
   "id": "64966ef8",
   "metadata": {},
   "outputs": [],
   "source": [
    "import pandas as pd\n",
    "import numpy as np\n",
    "import matplotlib.pyplot as plt\n",
    "import lightgbm as lgb\n",
    "from sklearn.metrics import roc_auc_score\n",
    "from sklearn.preprocessing import PolynomialFeatures\n",
    "from sklearn.model_selection import KFold, StratifiedKFold"
   ]
  },
  {
   "cell_type": "code",
   "execution_count": 2,
   "id": "1380bdb6",
   "metadata": {},
   "outputs": [],
   "source": [
    "train_data = pd.read_csv(\"playground-series-s4e7/train.csv\")\n",
    "test_data = pd.read_csv(\"playground-series-s4e7/test.csv\")"
   ]
  },
  {
   "cell_type": "code",
   "execution_count": 3,
   "id": "342c5fcc",
   "metadata": {},
   "outputs": [],
   "source": [
    "X = train_data.drop(columns=['id', 'Response'])\n",
    "y = train_data['Response']"
   ]
  },
  {
   "cell_type": "code",
   "execution_count": 4,
   "id": "789ade78",
   "metadata": {},
   "outputs": [],
   "source": [
    "mappings = {\n",
    "    'Gender': {'Male': 0, 'Female': 1},\n",
    "    'Vehicle_Age': {'< 1 Year': 0, '1-2 Year': 1, '> 2 Years': 2},\n",
    "    'Vehicle_Damage': {'Yes': 1, 'No': 0}\n",
    "}"
   ]
  },
  {
   "cell_type": "code",
   "execution_count": 23,
   "id": "6eb6b105",
   "metadata": {},
   "outputs": [],
   "source": [
    "for col, mapping in mappings.items():\n",
    "    X[col] = X[col].map(mapping)\n",
    "\n",
    "categorical_cols = [\"Gender\", \"Driving_License\", \"Region_Code\", \"Previously_Insured\", \"Vehicle_Age\", \"Vehicle_Damage\", \"Policy_Sales_Channel\"]\n",
    "numerical_cols = [col for col in X.columns if col not in categorical_cols]"
   ]
  },
  {
   "cell_type": "code",
   "execution_count": 25,
   "id": "19635325",
   "metadata": {},
   "outputs": [],
   "source": [
    "from sklearn.impute import SimpleImputer\n",
    "from sklearn.compose import ColumnTransformer\n",
    "from sklearn.pipeline import Pipeline"
   ]
  },
  {
   "cell_type": "code",
   "execution_count": 26,
   "id": "6c76ee2a",
   "metadata": {},
   "outputs": [],
   "source": [
    "numeric_transformer = Pipeline(steps=[\n",
    "    ('imputer', SimpleImputer(strategy='most_frequent')),\n",
    "])\n",
    "\n",
    "preprocessor = ColumnTransformer(\n",
    "    transformers=[\n",
    "        ('num', numeric_transformer, numerical_cols),\n",
    "    ])\n",
    "\n",
    "X_imputed = preprocessor.fit_transform(X)\n",
    "X_imputed = pd.DataFrame(X_imputed, columns=numerical_cols)"
   ]
  },
  {
   "cell_type": "code",
   "execution_count": 27,
   "id": "f4852cf5",
   "metadata": {},
   "outputs": [
    {
     "name": "stdout",
     "output_type": "stream",
     "text": [
      "Missing values in imputed data:\n",
      " Age               0\n",
      "Annual_Premium    0\n",
      "Vintage           0\n",
      "dtype: int64\n",
      "Infinity values in imputed data:\n",
      " Age               0.0\n",
      "Annual_Premium    0.0\n",
      "Vintage           0.0\n",
      "dtype: float64\n"
     ]
    }
   ],
   "source": [
    "print(\"Missing values in imputed data:\\n\", X_imputed.isnull().sum())\n",
    "print(\"Infinity values in imputed data:\\n\", X_imputed[X_imputed == np.inf].sum())"
   ]
  },
  {
   "cell_type": "code",
   "execution_count": 28,
   "id": "f3f8a6d4",
   "metadata": {},
   "outputs": [],
   "source": [
    "poly = PolynomialFeatures(degree=2, interaction_only=True, include_bias=False)\n",
    "X_poly = poly.fit_transform(X_imputed)"
   ]
  },
  {
   "cell_type": "code",
   "execution_count": 29,
   "id": "f7580b0d",
   "metadata": {},
   "outputs": [
    {
     "name": "stdout",
     "output_type": "stream",
     "text": [
      "Original shape: (11504798, 10)\n",
      "Polynomial features shape: (11504798, 6)\n"
     ]
    }
   ],
   "source": [
    "print(f\"Original shape: {X.shape}\")\n",
    "print(f\"Polynomial features shape: {X_poly.shape}\")"
   ]
  },
  {
   "cell_type": "code",
   "execution_count": 30,
   "id": "bd36a2de",
   "metadata": {},
   "outputs": [],
   "source": [
    "skf = StratifiedKFold(n_splits=5, shuffle=True, random_state=0)\n",
    "roc_auc_scores = []"
   ]
  },
  {
   "cell_type": "code",
   "execution_count": 31,
   "id": "7eaef3f2",
   "metadata": {},
   "outputs": [
    {
     "name": "stdout",
     "output_type": "stream",
     "text": [
      "Training until validation scores don't improve for 100 rounds\n",
      "[100]\tvalid_0's binary_logloss: 0.592611\n",
      "Did not meet early stopping. Best iteration is:\n",
      "[100]\tvalid_0's binary_logloss: 0.592611\n",
      "Training until validation scores don't improve for 100 rounds\n",
      "[100]\tvalid_0's binary_logloss: 0.592377\n",
      "Did not meet early stopping. Best iteration is:\n",
      "[100]\tvalid_0's binary_logloss: 0.592377\n",
      "Training until validation scores don't improve for 100 rounds\n",
      "[100]\tvalid_0's binary_logloss: 0.592042\n",
      "Did not meet early stopping. Best iteration is:\n",
      "[100]\tvalid_0's binary_logloss: 0.592042\n",
      "Training until validation scores don't improve for 100 rounds\n",
      "[100]\tvalid_0's binary_logloss: 0.591802\n",
      "Did not meet early stopping. Best iteration is:\n",
      "[100]\tvalid_0's binary_logloss: 0.591802\n",
      "Training until validation scores don't improve for 100 rounds\n",
      "[100]\tvalid_0's binary_logloss: 0.592048\n",
      "Did not meet early stopping. Best iteration is:\n",
      "[100]\tvalid_0's binary_logloss: 0.592048\n"
     ]
    }
   ],
   "source": [
    "for train_index, val_index in skf.split(X_poly, y):\n",
    "    X_train, X_val = X_poly[train_index], X_poly[val_index]\n",
    "    y_train, y_val = y[train_index], y[val_index]\n",
    "    \n",
    "    lgbm_classifier = lgb.LGBMClassifier(random_state=0, class_weight='balanced')\n",
    "    lgbm_classifier.fit(X_train, y_train, eval_set=(X_val, y_val), early_stopping_rounds=100, verbose=100)\n",
    "    \n",
    "    val_preds = lgbm_classifier.predict_proba(X_val)[:, 1]\n",
    "    roc_auc_scores.append(roc_auc_score(y_val, val_preds))"
   ]
  },
  {
   "cell_type": "code",
   "execution_count": 32,
   "id": "1b37191d",
   "metadata": {},
   "outputs": [
    {
     "name": "stdout",
     "output_type": "stream",
     "text": [
      "Average LightGBM Stratified K-Fold ROC-AUC: 0.7534\n"
     ]
    }
   ],
   "source": [
    "print('Average LightGBM Stratified K-Fold ROC-AUC: {:.4f}'.format(np.mean(roc_auc_scores)))"
   ]
  },
  {
   "cell_type": "code",
   "execution_count": 33,
   "id": "0cf83bc6",
   "metadata": {},
   "outputs": [],
   "source": [
    "test_ids = test_data['id']\n",
    "X_test = test_data.drop(columns=['id'])"
   ]
  },
  {
   "cell_type": "code",
   "execution_count": 34,
   "id": "777ba720",
   "metadata": {},
   "outputs": [],
   "source": [
    "for col, mapping in mappings.items():\n",
    "    X_test[col] = X_test[col].map(mapping)"
   ]
  },
  {
   "cell_type": "code",
   "execution_count": 35,
   "id": "1ad2a0ef",
   "metadata": {},
   "outputs": [],
   "source": [
    "X_test_imputed = preprocessor.transform(X_test)\n",
    "X_test_imputed = pd.DataFrame(X_test_imputed, columns=numerical_cols)"
   ]
  },
  {
   "cell_type": "code",
   "execution_count": 36,
   "id": "e2a3a671",
   "metadata": {},
   "outputs": [
    {
     "name": "stdout",
     "output_type": "stream",
     "text": [
      "Missing values in test data:\n",
      " Age               0\n",
      "Annual_Premium    0\n",
      "Vintage           0\n",
      "dtype: int64\n",
      "Infinity values in test data:\n",
      " Age               0.0\n",
      "Annual_Premium    0.0\n",
      "Vintage           0.0\n",
      "dtype: float64\n"
     ]
    }
   ],
   "source": [
    "print(\"Missing values in test data:\\n\", X_test_imputed.isnull().sum())\n",
    "print(\"Infinity values in test data:\\n\", X_test_imputed[X_test_imputed == np.inf].sum())"
   ]
  },
  {
   "cell_type": "code",
   "execution_count": 37,
   "id": "ea503045",
   "metadata": {},
   "outputs": [],
   "source": [
    "X_test_poly = poly.transform(X_test_imputed)"
   ]
  },
  {
   "cell_type": "code",
   "execution_count": 38,
   "id": "c5b9a81a",
   "metadata": {},
   "outputs": [
    {
     "name": "stdout",
     "output_type": "stream",
     "text": [
      "Test original shape: (7669866, 10)\n",
      "Test polynomial features shape: (7669866, 6)\n"
     ]
    }
   ],
   "source": [
    "print(f\"Test original shape: {X_test.shape}\")\n",
    "print(f\"Test polynomial features shape: {X_test_poly.shape}\")"
   ]
  },
  {
   "cell_type": "code",
   "execution_count": 39,
   "id": "1dcaecaa",
   "metadata": {},
   "outputs": [],
   "source": [
    "lgbm_predictions_test = lgbm_classifier.predict_proba(X_test_poly)[:, 1]"
   ]
  },
  {
   "cell_type": "code",
   "execution_count": 41,
   "id": "fe9ae96d",
   "metadata": {},
   "outputs": [],
   "source": [
    "result = pd.DataFrame({'id': test_ids, 'Response': lgbm_predictions_test.flatten()})\n",
    "result.to_csv(\"submission7.csv\", index=False)"
   ]
  },
  {
   "cell_type": "code",
   "execution_count": null,
   "id": "814c3845",
   "metadata": {},
   "outputs": [],
   "source": []
  }
 ],
 "metadata": {
  "kernelspec": {
   "display_name": "Python 3 (ipykernel)",
   "language": "python",
   "name": "python3"
  },
  "language_info": {
   "codemirror_mode": {
    "name": "ipython",
    "version": 3
   },
   "file_extension": ".py",
   "mimetype": "text/x-python",
   "name": "python",
   "nbconvert_exporter": "python",
   "pygments_lexer": "ipython3",
   "version": "3.7.1"
  }
 },
 "nbformat": 4,
 "nbformat_minor": 5
}
