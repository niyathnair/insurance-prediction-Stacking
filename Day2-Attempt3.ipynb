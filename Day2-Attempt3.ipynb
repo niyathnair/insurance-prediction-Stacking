{
 "cells": [
  {
   "cell_type": "code",
   "execution_count": 1,
   "id": "d15a050e",
   "metadata": {},
   "outputs": [
    {
     "name": "stderr",
     "output_type": "stream",
     "text": [
      "C:\\Users\\nickn\\AppData\\Local\\anaconda3\\envs\\niyath37\\lib\\site-packages\\numpy\\_distributor_init.py:32: UserWarning: loaded more than 1 DLL from .libs:\n",
      "C:\\Users\\nickn\\AppData\\Local\\anaconda3\\envs\\niyath37\\lib\\site-packages\\numpy\\.libs\\libopenblas.PYQHXLVVQ7VESDPUVUADXEVJOBGHJPAY.gfortran-win_amd64.dll\n",
      "C:\\Users\\nickn\\AppData\\Local\\anaconda3\\envs\\niyath37\\lib\\site-packages\\numpy\\.libs\\libopenblas.XWYDX2IKJW2NMTWSFYNGFUWKQU3LYTCZ.gfortran-win_amd64.dll\n",
      "  stacklevel=1)\n"
     ]
    }
   ],
   "source": [
    "import pandas as pd\n",
    "import matplotlib.pyplot as plt\n",
    "import seaborn as sns\n",
    "import lightgbm as lgb\n",
    "from sklearn.metrics import roc_auc_score"
   ]
  },
  {
   "cell_type": "code",
   "execution_count": 2,
   "id": "05930bf6",
   "metadata": {},
   "outputs": [],
   "source": [
    "train_data = pd.read_csv(\"playground-series-s4e7/train.csv\")\n",
    "test_data = pd.read_csv(\"playground-series-s4e7/test.csv\")"
   ]
  },
  {
   "cell_type": "code",
   "execution_count": 3,
   "id": "f321b0d1",
   "metadata": {},
   "outputs": [],
   "source": [
    "X = train_data.drop(columns=['id', 'Response'])\n",
    "y = train_data['Response']"
   ]
  },
  {
   "cell_type": "code",
   "execution_count": 4,
   "id": "10d6e68c",
   "metadata": {},
   "outputs": [],
   "source": [
    "mappings = {\n",
    "    'Gender': {'Male': 0, 'Female': 1},\n",
    "    'Vehicle_Age': {'< 1 Year': 0, '1-2 Year': 1, '> 2 Years': 2},\n",
    "    'Vehicle_Damage': {'Yes': 1, 'No': 0}\n",
    "}\n",
    "\n",
    "for col, mapping in mappings.items():\n",
    "    X[col] = X[col].map(mapping)\n",
    "    test_data[col] = test_data[col].map(mapping)\n",
    "\n",
    "categorical = [\"Gender\", \"Driving_License\", \"Region_Code\", \"Previously_Insured\", \"Vehicle_Age\", \"Vehicle_Damage\", \"Policy_Sales_Channel\"]"
   ]
  },
  {
   "cell_type": "code",
   "execution_count": 5,
   "id": "a0c89665",
   "metadata": {},
   "outputs": [
    {
     "name": "stderr",
     "output_type": "stream",
     "text": [
      "C:\\Users\\nickn\\AppData\\Local\\anaconda3\\envs\\niyath37\\lib\\site-packages\\lightgbm\\basic.py:1702: UserWarning: Using categorical_feature in Dataset.\n",
      "  _log_warning('Using categorical_feature in Dataset.')\n"
     ]
    },
    {
     "data": {
      "text/plain": [
       "LGBMClassifier(random_state=0)"
      ]
     },
     "execution_count": 5,
     "metadata": {},
     "output_type": "execute_result"
    }
   ],
   "source": [
    "lgb_train = lgb.Dataset(X, y, categorical_feature=categorical)\n",
    "lgbm_classifier = lgb.LGBMClassifier(random_state=0)\n",
    "lgbm_classifier.fit(X, y, categorical_feature=categorical)"
   ]
  },
  {
   "cell_type": "code",
   "execution_count": 6,
   "id": "2e46bc47",
   "metadata": {},
   "outputs": [],
   "source": [
    "test_ids = test_data['id']\n",
    "X_test = test_data.drop(columns=['id'])"
   ]
  },
  {
   "cell_type": "code",
   "execution_count": 7,
   "id": "a322ddb8",
   "metadata": {},
   "outputs": [],
   "source": [
    "lgbm_preds = lgbm_classifier.predict_proba(X_test)[:, 1]"
   ]
  },
  {
   "cell_type": "code",
   "execution_count": null,
   "id": "429ad46e",
   "metadata": {},
   "outputs": [],
   "source": []
  }
 ],
 "metadata": {
  "kernelspec": {
   "display_name": "Python 3 (ipykernel)",
   "language": "python",
   "name": "python3"
  },
  "language_info": {
   "codemirror_mode": {
    "name": "ipython",
    "version": 3
   },
   "file_extension": ".py",
   "mimetype": "text/x-python",
   "name": "python",
   "nbconvert_exporter": "python",
   "pygments_lexer": "ipython3",
   "version": "3.7.1"
  }
 },
 "nbformat": 4,
 "nbformat_minor": 5
}
